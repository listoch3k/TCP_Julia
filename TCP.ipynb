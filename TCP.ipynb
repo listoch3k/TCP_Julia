{
 "cells": [
  {
   "cell_type": "code",
   "execution_count": 9,
   "id": "4bcafee5",
   "metadata": {},
   "outputs": [],
   "source": [
    "using Plots"
   ]
  },
  {
   "cell_type": "code",
   "execution_count": 26,
   "id": "ae5f5e52",
   "metadata": {},
   "outputs": [],
   "source": [
    "using Random\n",
    "Random.seed!(3334)\n",
    "\n",
    "global currentPhase = \"SlowStart\"\n",
    "\n",
    "rtt = 200\n",
    "rttValues = [1.0]\n",
    "\n",
    "cwndValues = [0]\n",
    "\n",
    "ssth = 28\n",
    "\n",
    "temp = 1\n",
    "\n",
    "cwnd = 2\n",
    "\n",
    "while last(rttValues) <= 25.0\n",
    "    while currentPhase == \"SlowStart\"\n",
    "        push!(cwndValues, last(cwndValues) + cwnd)\n",
    "        cwnd = cwnd*2\n",
    "        push!(rttValues, last(rttValues) + 1.0)\n",
    "        if last(cwndValues) >= ssth \n",
    "             currentPhase = \"CongestionAvoidance\"\n",
    "        end\n",
    "    end\n",
    "\n",
    "    while currentPhase == \"CongestionAvoidance\"\n",
    "        push!(cwndValues, last(cwndValues) + 1)\n",
    "        push!(rttValues, last(rttValues) + 1.0)\n",
    "        if rand() < 0.3\n",
    "            currentPhase = \"Timeout\"\n",
    "        end\n",
    "    end\n",
    "\n",
    "    if currentPhase == \"Timeout\"\n",
    "        push!(cwndValues, round(last(cwndValues)/2))\n",
    "        push!(rttValues, last(rttValues) + 1.0)\n",
    "        currentPhase = \"SlowStart\"\n",
    "        cwnd = 2\n",
    "    end\n",
    "end\n"
   ]
  },
  {
   "cell_type": "code",
   "execution_count": 30,
   "id": "0b233e66",
   "metadata": {},
   "outputs": [],
   "source": [
    "plot(rttValues, cwndValues, color=\"black\", fontfamily=\"Computer Modern\", legend=:topleft, label = \"cwnd\")\n",
    "title!(\"Изменение размера окна перегрузки\")\n",
    "xlabel!(\"RTT [сек.]\")\n",
    "ylabel!(\"Размер окна [сег.]\")\n",
    "savefig(\"plot.png\")"
   ]
  }
 ],
 "metadata": {
  "kernelspec": {
   "display_name": "Julia 1.8.2",
   "language": "julia",
   "name": "julia-1.8"
  },
  "language_info": {
   "file_extension": ".jl",
   "mimetype": "application/julia",
   "name": "julia",
   "version": "1.8.2"
  }
 },
 "nbformat": 4,
 "nbformat_minor": 5
}
