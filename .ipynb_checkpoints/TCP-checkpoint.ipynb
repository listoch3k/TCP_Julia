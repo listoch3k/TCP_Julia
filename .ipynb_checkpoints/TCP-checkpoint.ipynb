{
 "cells": [
  {
   "cell_type": "code",
   "execution_count": null,
   "id": "50f6f170",
   "metadata": {
    "scrolled": true
   },
   "outputs": [],
   "source": [
    "mutable struct State\n",
    "    id::Integer\n",
    "    name::String\n",
    "end"
   ]
  },
  {
   "cell_type": "code",
   "execution_count": null,
   "id": "7a38e5ad",
   "metadata": {},
   "outputs": [],
   "source": []
  },
  {
   "cell_type": "code",
   "execution_count": null,
   "id": "0452df26",
   "metadata": {
    "scrolled": true
   },
   "outputs": [],
   "source": [
    "SlowStart1 = State(1, \"SlowStart\")"
   ]
  },
  {
   "cell_type": "code",
   "execution_count": null,
   "id": "8c61f98d",
   "metadata": {},
   "outputs": [],
   "source": [
    "\n",
    "\n",
    "cwnd = 10.0\n",
    "\n",
    "statesHistory = []\n",
    "cwndValues = []\n",
    "\n",
    "push!(statesHistory, SlowStart1.id)\n",
    "slowStart(cwnd)"
   ]
  },
  {
   "cell_type": "code",
   "execution_count": null,
   "id": "85b32d62",
   "metadata": {},
   "outputs": [],
   "source": [
    "SlowStart1.variables[\"cwnd\"]"
   ]
  },
  {
   "cell_type": "code",
   "execution_count": null,
   "id": "335d7609",
   "metadata": {},
   "outputs": [],
   "source": [
    "function activeState(statesArray)\n",
    "    return last(statesArray)\n",
    "end"
   ]
  },
  {
   "cell_type": "code",
   "execution_count": null,
   "id": "3adf2a70",
   "metadata": {},
   "outputs": [],
   "source": [
    "function SlowStart()\n",
    "    while activeState(statesArray) == SlowStart.id\n",
    "        push!(cwndValues, cwnd += 1)\n",
    "        push!(statesHistory, SlowStart.id)\n",
    "    end\n",
    "    if cwnd >= ssth\n",
    "        condition_1 == true\n",
    "    elseif cwnd >= timeout_th \n",
    "        condition_2 == true\n",
    "    elseif cwnd < timeout_th\n",
    "        condition_3 == true\n",
    "    end\n",
    "end "
   ]
  },
  {
   "cell_type": "code",
   "execution_count": null,
   "id": "56648926",
   "metadata": {},
   "outputs": [],
   "source": [
    "function FastRecovery()\n",
    "    ssht = cwnd/2\n",
    "    cwnd = ssth\n",
    "    end\n",
    "end"
   ]
  },
  {
   "cell_type": "code",
   "execution_count": null,
   "id": "539deab4",
   "metadata": {},
   "outputs": [],
   "source": [
    "function CongestionAvoidance()\n",
    "    cwnd += 1\n",
    "end"
   ]
  },
  {
   "cell_type": "code",
   "execution_count": null,
   "id": "beff96d0",
   "metadata": {},
   "outputs": [],
   "source": [
    "function Timeout()\n",
    "    cwnd = 1\n",
    "    ssht = cwnd/2\n",
    "end"
   ]
  },
  {
   "cell_type": "code",
   "execution_count": null,
   "id": "b7f5ac16",
   "metadata": {},
   "outputs": [],
   "source": [
    "function transition(fromState, toState, condition)\n",
    "    if condition == true\n",
    "        currentState = toState\n",
    "        push!(currentState.id, statesHistory)\n",
    "    end\n",
    "    return currentState\n",
    "end"
   ]
  },
  {
   "cell_type": "code",
   "execution_count": null,
   "id": "21e5a060",
   "metadata": {},
   "outputs": [],
   "source": [
    "statesHistory = []\n",
    "cwndValues = []"
   ]
  },
  {
   "cell_type": "code",
   "execution_count": null,
   "id": "bdc11421",
   "metadata": {},
   "outputs": [],
   "source": []
  }
 ],
 "metadata": {
  "kernelspec": {
   "display_name": "Julia 1.8.2",
   "language": "julia",
   "name": "julia-1.8"
  },
  "language_info": {
   "file_extension": ".jl",
   "mimetype": "application/julia",
   "name": "julia",
   "version": "1.8.2"
  }
 },
 "nbformat": 4,
 "nbformat_minor": 5
}
